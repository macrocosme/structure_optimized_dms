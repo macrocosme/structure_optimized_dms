{
 "cells": [
  {
   "cell_type": "code",
   "execution_count": 1,
   "metadata": {},
   "outputs": [],
   "source": [
    "%load_ext autoreload\n",
    "%autoreload 2\n",
    "%config InlineBackend.figure_format='retina'\n",
    "\n",
    "import os\n",
    "import sys\n",
    "import warnings\n",
    "warnings.simplefilter('ignore')\n",
    "\n",
    "from IPython.display import display\n",
    "\n",
    "# Add modules paths to system path\n",
    "module_paths = ['.', '/usr/local/lib/python3.8/site-packages']\n",
    "for module_path in module_paths:\n",
    "    if os.path.abspath(os.path.join(module_path)) not in sys.path:\n",
    "        sys.path.append(module_path)\n",
    "    \n",
    "import pickle\n",
    "import numpy as np\n",
    "import pandas as pd\n",
    "import builtins\n",
    "\n",
    "import matplotlib.pyplot as plt\n",
    "\n",
    "from ipywidgets import interact, fixed\n",
    "import ipywidgets as widgets\n",
    "\n",
    "from struct_opt_dms.utils import save, load\n",
    "from struct_opt_dms.dataset import load_dataframe\n",
    "from struct_opt_dms.interactive_analysis import initialize, prep_power, select_frequency_range\n",
    "\n",
    "current_input_id = -1\n",
    "\n",
    "input_filterbanks_repository = '../data/filterbanks/R3/'\n",
    "# state_variable_name = 'df_arts_R3_gaussian_errors'\n",
    "state_variable_name = 'df_arts_R3'\n",
    "reload_state = True"
   ]
  },
  {
   "cell_type": "markdown",
   "metadata": {},
   "source": [
    "# Prepare bursts metadata\n",
    "(detection parameters, repository name, local and arts paths) "
   ]
  },
  {
   "cell_type": "code",
   "execution_count": 2,
   "metadata": {
    "scrolled": false
   },
   "outputs": [
    {
     "name": "stdout",
     "output_type": "stream",
     "text": [
      "Reloading dataframe df_arts_R3\n"
     ]
    }
   ],
   "source": [
    "df_R3 = load_dataframe(input_filterbanks_repository, state_variable_name, reload=reload_state)\n",
    "# df_missing = df_R3.loc[df_R3['struct_opt_dm'].isnull()]"
   ]
  },
  {
   "cell_type": "markdown",
   "metadata": {},
   "source": [
    "# Load input data"
   ]
  },
  {
   "cell_type": "code",
   "execution_count": 35,
   "metadata": {
    "scrolled": false
   },
   "outputs": [
    {
     "name": "stdout",
     "output_type": "stream",
     "text": [
      "Current burst (index=44):\n"
     ]
    },
    {
     "ename": "IndexError",
     "evalue": "single positional indexer is out-of-bounds",
     "output_type": "error",
     "traceback": [
      "\u001b[0;31m---------------------------------------------------------------------------\u001b[0m",
      "\u001b[0;31mIndexError\u001b[0m                                Traceback (most recent call last)",
      "\u001b[0;32m<ipython-input-35-7844b48cd44e>\u001b[0m in \u001b[0;36m<module>\u001b[0;34m\u001b[0m\n\u001b[1;32m     16\u001b[0m \u001b[0;34m\u001b[0m\u001b[0m\n\u001b[1;32m     17\u001b[0m \u001b[0mprint\u001b[0m \u001b[0;34m(\u001b[0m\u001b[0;34m'Current burst (index=%d):'\u001b[0m \u001b[0;34m%\u001b[0m \u001b[0mcurrent_input_id\u001b[0m\u001b[0;34m)\u001b[0m\u001b[0;34m\u001b[0m\u001b[0;34m\u001b[0m\u001b[0m\n\u001b[0;32m---> 18\u001b[0;31m \u001b[0mprint\u001b[0m \u001b[0;34m(\u001b[0m\u001b[0mdf_R3\u001b[0m\u001b[0;34m.\u001b[0m\u001b[0miloc\u001b[0m\u001b[0;34m[\u001b[0m\u001b[0mcurrent_input_id\u001b[0m\u001b[0;34m]\u001b[0m\u001b[0;34m)\u001b[0m\u001b[0;34m\u001b[0m\u001b[0;34m\u001b[0m\u001b[0m\n\u001b[0m\u001b[1;32m     19\u001b[0m \u001b[0mprint\u001b[0m \u001b[0;34m(\u001b[0m\u001b[0;34m)\u001b[0m\u001b[0;34m\u001b[0m\u001b[0;34m\u001b[0m\u001b[0m\n\u001b[1;32m     20\u001b[0m \u001b[0;34m\u001b[0m\u001b[0m\n",
      "\u001b[0;32m~/Documents/code/arts/struct_opt_dms/env/lib/python3.8/site-packages/pandas/core/indexing.py\u001b[0m in \u001b[0;36m__getitem__\u001b[0;34m(self, key)\u001b[0m\n\u001b[1;32m   1766\u001b[0m \u001b[0;34m\u001b[0m\u001b[0m\n\u001b[1;32m   1767\u001b[0m             \u001b[0mmaybe_callable\u001b[0m \u001b[0;34m=\u001b[0m \u001b[0mcom\u001b[0m\u001b[0;34m.\u001b[0m\u001b[0mapply_if_callable\u001b[0m\u001b[0;34m(\u001b[0m\u001b[0mkey\u001b[0m\u001b[0;34m,\u001b[0m \u001b[0mself\u001b[0m\u001b[0;34m.\u001b[0m\u001b[0mobj\u001b[0m\u001b[0;34m)\u001b[0m\u001b[0;34m\u001b[0m\u001b[0;34m\u001b[0m\u001b[0m\n\u001b[0;32m-> 1768\u001b[0;31m             \u001b[0;32mreturn\u001b[0m \u001b[0mself\u001b[0m\u001b[0;34m.\u001b[0m\u001b[0m_getitem_axis\u001b[0m\u001b[0;34m(\u001b[0m\u001b[0mmaybe_callable\u001b[0m\u001b[0;34m,\u001b[0m \u001b[0maxis\u001b[0m\u001b[0;34m=\u001b[0m\u001b[0maxis\u001b[0m\u001b[0;34m)\u001b[0m\u001b[0;34m\u001b[0m\u001b[0;34m\u001b[0m\u001b[0m\n\u001b[0m\u001b[1;32m   1769\u001b[0m \u001b[0;34m\u001b[0m\u001b[0m\n\u001b[1;32m   1770\u001b[0m     \u001b[0;32mdef\u001b[0m \u001b[0m_is_scalar_access\u001b[0m\u001b[0;34m(\u001b[0m\u001b[0mself\u001b[0m\u001b[0;34m,\u001b[0m \u001b[0mkey\u001b[0m\u001b[0;34m:\u001b[0m \u001b[0mTuple\u001b[0m\u001b[0;34m)\u001b[0m\u001b[0;34m:\u001b[0m\u001b[0;34m\u001b[0m\u001b[0;34m\u001b[0m\u001b[0m\n",
      "\u001b[0;32m~/Documents/code/arts/struct_opt_dms/env/lib/python3.8/site-packages/pandas/core/indexing.py\u001b[0m in \u001b[0;36m_getitem_axis\u001b[0;34m(self, key, axis)\u001b[0m\n\u001b[1;32m   2136\u001b[0m \u001b[0;34m\u001b[0m\u001b[0m\n\u001b[1;32m   2137\u001b[0m             \u001b[0;31m# validate the location\u001b[0m\u001b[0;34m\u001b[0m\u001b[0;34m\u001b[0m\u001b[0;34m\u001b[0m\u001b[0m\n\u001b[0;32m-> 2138\u001b[0;31m             \u001b[0mself\u001b[0m\u001b[0;34m.\u001b[0m\u001b[0m_validate_integer\u001b[0m\u001b[0;34m(\u001b[0m\u001b[0mkey\u001b[0m\u001b[0;34m,\u001b[0m \u001b[0maxis\u001b[0m\u001b[0;34m)\u001b[0m\u001b[0;34m\u001b[0m\u001b[0;34m\u001b[0m\u001b[0m\n\u001b[0m\u001b[1;32m   2139\u001b[0m \u001b[0;34m\u001b[0m\u001b[0m\n\u001b[1;32m   2140\u001b[0m             \u001b[0;32mreturn\u001b[0m \u001b[0mself\u001b[0m\u001b[0;34m.\u001b[0m\u001b[0m_get_loc\u001b[0m\u001b[0;34m(\u001b[0m\u001b[0mkey\u001b[0m\u001b[0;34m,\u001b[0m \u001b[0maxis\u001b[0m\u001b[0;34m=\u001b[0m\u001b[0maxis\u001b[0m\u001b[0;34m)\u001b[0m\u001b[0;34m\u001b[0m\u001b[0;34m\u001b[0m\u001b[0m\n",
      "\u001b[0;32m~/Documents/code/arts/struct_opt_dms/env/lib/python3.8/site-packages/pandas/core/indexing.py\u001b[0m in \u001b[0;36m_validate_integer\u001b[0;34m(self, key, axis)\u001b[0m\n\u001b[1;32m   2061\u001b[0m         \u001b[0mlen_axis\u001b[0m \u001b[0;34m=\u001b[0m \u001b[0mlen\u001b[0m\u001b[0;34m(\u001b[0m\u001b[0mself\u001b[0m\u001b[0;34m.\u001b[0m\u001b[0mobj\u001b[0m\u001b[0;34m.\u001b[0m\u001b[0m_get_axis\u001b[0m\u001b[0;34m(\u001b[0m\u001b[0maxis\u001b[0m\u001b[0;34m)\u001b[0m\u001b[0;34m)\u001b[0m\u001b[0;34m\u001b[0m\u001b[0;34m\u001b[0m\u001b[0m\n\u001b[1;32m   2062\u001b[0m         \u001b[0;32mif\u001b[0m \u001b[0mkey\u001b[0m \u001b[0;34m>=\u001b[0m \u001b[0mlen_axis\u001b[0m \u001b[0;32mor\u001b[0m \u001b[0mkey\u001b[0m \u001b[0;34m<\u001b[0m \u001b[0;34m-\u001b[0m\u001b[0mlen_axis\u001b[0m\u001b[0;34m:\u001b[0m\u001b[0;34m\u001b[0m\u001b[0;34m\u001b[0m\u001b[0m\n\u001b[0;32m-> 2063\u001b[0;31m             \u001b[0;32mraise\u001b[0m \u001b[0mIndexError\u001b[0m\u001b[0;34m(\u001b[0m\u001b[0;34m\"single positional indexer is out-of-bounds\"\u001b[0m\u001b[0;34m)\u001b[0m\u001b[0;34m\u001b[0m\u001b[0;34m\u001b[0m\u001b[0m\n\u001b[0m\u001b[1;32m   2064\u001b[0m \u001b[0;34m\u001b[0m\u001b[0m\n\u001b[1;32m   2065\u001b[0m     \u001b[0;32mdef\u001b[0m \u001b[0m_getitem_tuple\u001b[0m\u001b[0;34m(\u001b[0m\u001b[0mself\u001b[0m\u001b[0;34m,\u001b[0m \u001b[0mtup\u001b[0m\u001b[0;34m:\u001b[0m \u001b[0mTuple\u001b[0m\u001b[0;34m)\u001b[0m\u001b[0;34m:\u001b[0m\u001b[0;34m\u001b[0m\u001b[0;34m\u001b[0m\u001b[0m\n",
      "\u001b[0;31mIndexError\u001b[0m: single positional indexer is out-of-bounds"
     ]
    }
   ],
   "source": [
    "# Main\n",
    "verbose = True\n",
    "\n",
    "# Go from one file to the other in the list in ascending (True) or decending (False) order\n",
    "# `None` will reload the same file.\n",
    "incr = True\n",
    "\n",
    "# current_input_id = 33\n",
    "\n",
    "if incr:\n",
    "    current_input_id += 1\n",
    "elif incr is not None:\n",
    "    current_input_id -= 1\n",
    "    \n",
    "# current_input_id = df_R3.loc[df_R3['paper_name'] == 'A17'].index[0]\n",
    "    \n",
    "print ('Current burst (index=%d):' % current_input_id)\n",
    "print (df_R3.iloc[current_input_id])\n",
    "print ()\n",
    "\n",
    "if df_R3.iloc[current_input_id]['file_location'] == '':\n",
    "    if incr:\n",
    "        current_input_id += 1\n",
    "    elif incr is not None:\n",
    "        current_input_id -= 1\n",
    "            \n",
    "spectra, dm_trials, filename = initialize(df_R3.iloc[current_input_id]['file_location'], \n",
    "                                          df_R3.iloc[current_input_id]['detection_dm'],\n",
    "#                                           348.8,\n",
    "                                          df_R3.iloc[current_input_id]['detection_downsampling'],\n",
    "                                          around_peak=False,\n",
    "                                          verbose=verbose)\n",
    "detection_mjd = df_R3.iloc[current_input_id]['detection_mjd']\n",
    "power_vs_dm, d_power_vs_dm = prep_power(spectra, dm_trials, verbose=verbose)\n"
   ]
  },
  {
   "cell_type": "markdown",
   "metadata": {},
   "source": [
    "# Interactive visualisation"
   ]
  },
  {
   "cell_type": "code",
   "execution_count": 34,
   "metadata": {
    "scrolled": false
   },
   "outputs": [
    {
     "data": {
      "text/plain": [
       "<Figure size 720x504 with 0 Axes>"
      ]
     },
     "metadata": {},
     "output_type": "display_data"
    },
    {
     "data": {
      "application/vnd.jupyter.widget-view+json": {
       "model_id": "b3aec46bb35841968f9505718648d4ff",
       "version_major": 2,
       "version_minor": 0
      },
      "text/plain": [
       "interactive(children=(Dropdown(description='fitting_method', options=('Gaussian', 'dm_phase'), value='Gaussian…"
      ]
     },
     "metadata": {},
     "output_type": "display_data"
    },
    {
     "data": {
      "application/vnd.jupyter.widget-view+json": {
       "model_id": "66b6f4e88d7747068b4a3bcdf8bb38e4",
       "version_major": 2,
       "version_minor": 0
      },
      "text/plain": [
       "Button(description='Save figure', style=ButtonStyle())"
      ]
     },
     "metadata": {},
     "output_type": "display_data"
    },
    {
     "data": {
      "application/vnd.jupyter.widget-view+json": {
       "model_id": "4dd8cc1d08a14617b0cd13eb07078782",
       "version_major": 2,
       "version_minor": 0
      },
      "text/plain": [
       "Button(description='Save raw figure', style=ButtonStyle())"
      ]
     },
     "metadata": {},
     "output_type": "display_data"
    },
    {
     "data": {
      "application/vnd.jupyter.widget-view+json": {
       "model_id": "88938d37f2c64c2391df2c8e4c917c9e",
       "version_major": 2,
       "version_minor": 0
      },
      "text/plain": [
       "Button(description='Clear params', style=ButtonStyle())"
      ]
     },
     "metadata": {},
     "output_type": "display_data"
    }
   ],
   "source": [
    "fig = plt.figure(constrained_layout=True, figsize=(10, 7))\n",
    "# plt.rcParams[\"font.family\"] = \"Times New Roman\"\n",
    "# plt.rcParams[\"font.size\"] = \"12\"\n",
    "gs = fig.add_gridspec(10, 6)\n",
    "\n",
    "def load_value(param, df, default=0):\n",
    "    if pd.isnull(df.loc[df['detection_mjd'] == detection_mjd, param].values[0]):\n",
    "        return default\n",
    "    else:\n",
    "        return df.loc[df['detection_mjd'] == detection_mjd, param]\n",
    "\n",
    "interact(\n",
    "    select_frequency_range, \n",
    "    spectra = fixed(spectra), \n",
    "    dm_trials = fixed(dm_trials),\n",
    "    power_vs_dm = fixed(power_vs_dm),\n",
    "    d_power_vs_dm  = fixed(d_power_vs_dm),\n",
    "    fig=fixed(fig),\n",
    "    gs=fixed(gs),\n",
    "    descriptor = fixed(df_R3.loc[df_R3['detection_mjd'] == detection_mjd, 'paper_name'].values[0]),\n",
    "    fitting_method = widgets.Dropdown(options=['Gaussian', 'dm_phase'], value='Gaussian'),\n",
    "    fluct_id_low = widgets.IntSlider(min = 0, \n",
    "                                     max = power_vs_dm.shape[0], \n",
    "                                     step = 1, \n",
    "                                     value = load_value('fluct_id_low', df_R3, 0), \n",
    "                                     continuous_update=False), \n",
    "    fluct_id_high = widgets.IntSlider(min = 0, \n",
    "                                      max = power_vs_dm.shape[0], \n",
    "                                      step = 1, \n",
    "                                      value = load_value('fluct_id_high', df_R3, power_vs_dm.shape[0]), \n",
    "#                                       value = 110,\n",
    "                                      continuous_update=False), \n",
    "    freq_id_low = widgets.IntSlider(min = 0, \n",
    "                                    max = spectra.data.shape[0], \n",
    "                                    step = 1, \n",
    "                                    value = load_value('freq_id_low', df_R3, 0), \n",
    "                                    continuous_update=False),\n",
    "    freq_id_high = widgets.IntSlider(min = 1, \n",
    "                                     max = spectra.data.shape[0], \n",
    "                                     step = 1, \n",
    "                                     value = load_value('freq_id_high', df_R3, spectra.data.shape[0]), \n",
    "                                     continuous_update=False),\n",
    "    t0 = widgets.IntSlider(min = 0, \n",
    "                           max = spectra.data.shape[1], \n",
    "                           step = 1, \n",
    "                           value = load_value('t0', df_R3, 0), \n",
    "#                            value = 550,\n",
    "                           continuous_update=False), \n",
    "    t1 = widgets.IntSlider(min = 1, \n",
    "                           max = spectra.data.shape[1], \n",
    "                           step = 1, \n",
    "                           value = load_value('t1', df_R3, spectra.data.shape[1]), \n",
    "#                            value = 671,\n",
    "                           continuous_update=False),\n",
    "    ds_freq = widgets.IntSlider(min=1, \n",
    "                                max=32, \n",
    "                                step=1, \n",
    "                                value=load_value('ds_freq', df_R3, 1), \n",
    "                                continuous_update=False),\n",
    "    ds_time = widgets.IntSlider(min=1, \n",
    "                                max=32, \n",
    "                                step=1, \n",
    "                                value=load_value('ds_time', df_R3, 1), \n",
    "                                continuous_update=False),\n",
    "    delta_dm = widgets.FloatSlider(min = -10, \n",
    "                                   max = 10, \n",
    "                                   step = 0.01, \n",
    "                                   value = load_value('delta_dm', df_R3, 0), \n",
    "                                   continuous_update=False),\n",
    "    smooth = widgets.IntSlider(min=0, \n",
    "                               max=4, \n",
    "                               step=1, \n",
    "                               value=load_value('smooth', df_R3, 0), \n",
    "                               continuous_update=False),\n",
    "    \n",
    ")\n",
    "\n",
    "# Save button\n",
    "button = widgets.Button(description=\"Save figure\")\n",
    "display(button)\n",
    "\n",
    "button_raw = widgets.Button(description=\"Save raw figure\")\n",
    "display(button_raw)\n",
    "\n",
    "button_clear = widgets.Button(description=\"Clear params\")\n",
    "display(button_clear)\n",
    "\n",
    "def save_to_df():\n",
    "    print (detection_mjd)\n",
    "    df_R3.loc[df_R3['detection_mjd'] == detection_mjd, 'struct_opt_dm'] = builtins.struct_opt_dm \n",
    "    df_R3.loc[df_R3['detection_mjd'] == detection_mjd, 'struct_opt_dm_err'] = builtins.struct_opt_dm_err\n",
    "    \n",
    "    # Widgets values\n",
    "    df_R3.loc[df_R3['detection_mjd'] == detection_mjd, 'fluct_id_low'] = builtins.fluct_id_low\n",
    "    df_R3.loc[df_R3['detection_mjd'] == detection_mjd, 'fluct_id_high'] = builtins.fluct_id_high\n",
    "    df_R3.loc[df_R3['detection_mjd'] == detection_mjd, 'freq_id_low'] = builtins.freq_id_low\n",
    "    df_R3.loc[df_R3['detection_mjd'] == detection_mjd, 'freq_id_high'] = builtins.freq_id_high\n",
    "    df_R3.loc[df_R3['detection_mjd'] == detection_mjd, 't0'] = builtins.t0\n",
    "    df_R3.loc[df_R3['detection_mjd'] == detection_mjd, 't1'] = builtins.t1\n",
    "    df_R3.loc[df_R3['detection_mjd'] == detection_mjd, 'ds_freq'] = builtins.ds_freq\n",
    "    df_R3.loc[df_R3['detection_mjd'] == detection_mjd, 'ds_time'] = builtins.ds_time\n",
    "    df_R3.loc[df_R3['detection_mjd'] == detection_mjd, 'delta_dm'] = builtins.delta_dm\n",
    "    df_R3.loc[df_R3['detection_mjd'] == detection_mjd, 'smooth'] = builtins.smooth\n",
    "    \n",
    "    save(state_variable_name, df_R3)\n",
    "    df_R3.to_csv('arts_r3.csv', index=False)\n",
    "\n",
    "def check_dir(folder):\n",
    "    if not os.path.exists(folder):\n",
    "        os.makedirs(folder)\n",
    "    \n",
    "def save_figure(b):\n",
    "    check_dir('images/manual_opt')\n",
    "    check_dir('images/manual_opt/data')\n",
    "    \n",
    "    _filename = df_R3.loc[df_R3['detection_mjd'] == detection_mjd, 'paper_name'].values[0]\n",
    "    \n",
    "    print (\"saved to images/manual_opt/%s.png\" % _filename)\n",
    "    fig.savefig(\"images/manual_opt/%s.png\" % _filename, dpi=300)\n",
    "\n",
    "    with open(\"images/manual_opt/data/%s_waterfall.npy\" % _filename, 'wb') as f:\n",
    "        np.savetxt(f, builtins.sub_waterfall)\n",
    "    with open(\"images/manual_opt/data/%s_fluctuation.npy\" % _filename, 'wb') as f:\n",
    "        np.savetxt(f, builtins.power_vs_dm)\n",
    "        \n",
    "    save_to_df()\n",
    "        \n",
    "def save_figure_raw(b):\n",
    "    check_dir('images/manual_opt/raw')\n",
    "    check_dir('images/manual_opt/raw/data')\n",
    "    \n",
    "    _filename = df_R3.loc[df_R3['detection_mjd'] == detection_mjd, 'paper_name'].values[0]\n",
    "    \n",
    "    print (\"saved to images/manual_opt/raw/%s.png\" % _filename)\n",
    "    fig.savefig(\"images/manual_opt/raw/%s.png\" % _filename, dpi=300)\n",
    "\n",
    "    with open(\"images/manual_opt/raw/data/%s_waterfall.npy\" % _filename, 'wb') as f:\n",
    "        np.savetxt(f, builtins.sub_waterfall)\n",
    "    with open(\"images/manual_opt/raw/data/%s_fluctuation.npy\" % _filename, 'wb') as f:\n",
    "        np.savetxt(f, builtins.power_vs_dm)\n",
    "        \n",
    "    save_to_df()\n",
    "    \n",
    "def clear_struct_params(b):\n",
    "    for param in ['struct_opt_dm', 'struct_opt_dm_err', 'fluct_id_low', 'fluct_id_high', 'freq_id_low',\n",
    "       'freq_id_high', 't0', 't1', 'ds_freq', 'ds_time', 'delta_dm', 'smooth']:\n",
    "        df_R3.loc[df_R3['detection_mjd'] == detection_mjd, param] = np.nan\n",
    "        \n",
    "    save(state_variable_name, df_R3)\n",
    "    print ('Parameters cleared')\n",
    "\n",
    "button.on_click(save_figure)\n",
    "button_raw.on_click(save_figure_raw)\n",
    "button_clear.on_click(clear_struct_params)\n"
   ]
  },
  {
   "cell_type": "code",
   "execution_count": null,
   "metadata": {},
   "outputs": [],
   "source": []
  },
  {
   "cell_type": "markdown",
   "metadata": {},
   "source": [
    "# Plot DM vs Phase / time"
   ]
  },
  {
   "cell_type": "code",
   "execution_count": null,
   "metadata": {
    "scrolled": true
   },
   "outputs": [],
   "source": [
    "# df = df_R3.loc[(df_R3['detection_mjd'] > 58960) & (df_R3['detection_mjd'] < 58985)]\n",
    "df = df_R3\n",
    "\n",
    "plt.scatter(df['detection_phase'], df['struct_opt_dm'])\n",
    "plt.errorbar(df['detection_phase'], df['struct_opt_dm'], yerr=df['struct_opt_dm_err'], ls='none')\n",
    "plt.hlines(np.nanmedian(df['struct_opt_dm']), \n",
    "           np.min(df['detection_phase']), \n",
    "           np.max(df['detection_phase']), \n",
    "           linestyle='dashed', \n",
    "           colors='black', \n",
    "           alpha = 0.5)\n",
    "plt.annotate(r'$\\~{\\tt{DM}}$ = %.2f pc/cc' % (np.nanmedian(df['struct_opt_dm'])), \n",
    "            xy=(0, 0.5),\n",
    "            xycoords='axes fraction',\n",
    "            xytext=(0.05, 0.85),)\n",
    "plt.xlabel('Phase')\n",
    "plt.ylabel('DM (pc/cc)')\n",
    "\n",
    "plt.tight_layout()\n",
    "plt.savefig('images/DM_v_Time_R3.png', dpi=300)\n",
    "\n",
    "df_R3[['detection_isot', \n",
    "       'detection_mjd', \n",
    "       'detection_phase', \n",
    "       'struct_opt_dm', \n",
    "       'struct_opt_dm_err']].to_csv('R3_arts.csv', index=False)"
   ]
  },
  {
   "cell_type": "markdown",
   "metadata": {},
   "source": [
    "# Only bursts with clear multiple components"
   ]
  },
  {
   "cell_type": "code",
   "execution_count": null,
   "metadata": {},
   "outputs": [],
   "source": [
    "dm, err, mjd, aname = [], [], [], []\n",
    "\n",
    "df_R3 = df_R3.sort_values('detection_mjd', ascending=True)\n",
    "\n",
    "j = 1\n",
    "for i, row in df_R3.iterrows():\n",
    "    df_R3.at[i, 'paper_name'] = \"A\" + str(j).zfill(2)\n",
    "    j += 1\n",
    "    \n",
    "save(state_variable_name, df_R3.reset_index(drop=True))\n",
    "\n",
    "# for name in ['CB00_10.0sec_dm0_t0141_sb-1_tab00', \n",
    "#              'CB00_10.0sec_dm0_t01889_sb-1_tab00', \n",
    "#              'CB00_10.0sec_dm0_t03437_sb-1_tab00',\n",
    "#              'CB00_10.0sec_dm0_t08867_sb-1_tab00',\n",
    "#              'CB00_10.0sec_dm0_t03335_sb35_tab00', \n",
    "#              'CB00_10.0sec_dm0_t04387_sb-1_tab00',\n",
    "#              'CB00_10.0sec_dm0_t06465_sb35_tab00',\n",
    "#             ]:\n",
    "#     dm.append(df.loc[df['filename'] == name, 'struct_opt_dm'].values[0])\n",
    "#     err.append(df.loc[df['filename'] == name, 'struct_opt_dm_err'].values[0])\n",
    "#     mjd.append(df.loc[df['filename'] == name, 'detection_mjd'].values[0])\n",
    "#     aname.append(df.loc[df['filename'] == name, 'paper_name'].values[0])\n",
    "    \n",
    "# print (r'%.2f ± %.2f pc/cc' % (np.mean(dm), np.sqrt(np.mean(np.array(err)**2))))\n",
    "# print ('sample (mjd):', mjd)\n",
    "# print (aname)\n",
    "# print ()\n",
    "# for row in zip(dm, err, mjd, aname):\n",
    "#     print (row)"
   ]
  },
  {
   "cell_type": "markdown",
   "metadata": {},
   "source": [
    "# Dev Zone"
   ]
  },
  {
   "cell_type": "code",
   "execution_count": null,
   "metadata": {},
   "outputs": [],
   "source": [
    "df = df_R3.loc[np.where(\n",
    "    (df_R3['struct_opt_dm'] >= np.quantile(df_R3['struct_opt_dm'], 0.25)) &\n",
    "    (df_R3['struct_opt_dm'] <= np.quantile(df_R3['struct_opt_dm'], 0.75))\n",
    ")]\n",
    "\n",
    "# df.plot.scatter('detection_phase', 'struct_opt_dm')\n",
    "plt.errorbar(df['detection_phase'], \n",
    "             df['struct_opt_dm'], \n",
    "             df['struct_opt_dm_err'], \n",
    "             fmt='o',\n",
    "             c='black')\n",
    "plt.axhline(df['struct_opt_dm'].mean(), c='black', linestyle='--', label=r'%.2f pc/cm$^3$' % df['struct_opt_dm'].mean())\n",
    "plt.legend(loc=2)\n",
    "plt.xlabel(r'Activity phase')\n",
    "plt.ylabel(r'$\\mathrm{DM}_{\\mathrm{struct}}$ (pc/cm$^3$)')\n",
    "# plt.grid(True)\n",
    "plt.tight_layout()\n",
    "plt.savefig('dm_phase.png', dpi=300)"
   ]
  },
  {
   "cell_type": "code",
   "execution_count": null,
   "metadata": {},
   "outputs": [],
   "source": [
    "df_R3.keys()"
   ]
  },
  {
   "cell_type": "code",
   "execution_count": null,
   "metadata": {},
   "outputs": [],
   "source": [
    "from astropy.time import Time, TimeDelta\n",
    "phase0 = 58369.30\n",
    "t0 = Time(phase0, format='mjd')\n",
    "period = 16.28\n",
    "df_R3['detection_phase'] = df_R3['detection_mjd'].apply(lambda x: ((x - t0.mjd) % period) / period)"
   ]
  },
  {
   "cell_type": "code",
   "execution_count": null,
   "metadata": {},
   "outputs": [],
   "source": [
    "save(state_variable_name, df_R3)"
   ]
  },
  {
   "cell_type": "code",
   "execution_count": null,
   "metadata": {},
   "outputs": [],
   "source": [
    "df_R3.keys()"
   ]
  },
  {
   "cell_type": "code",
   "execution_count": null,
   "metadata": {},
   "outputs": [],
   "source": [
    "plt.axhline?"
   ]
  },
  {
   "cell_type": "code",
   "execution_count": null,
   "metadata": {},
   "outputs": [],
   "source": [
    "df_R3['struct_opt_dm'].loc[np.where(\n",
    "    (df_R3['struct_opt_dm'] >= np.quantile(df_R3['struct_opt_dm'], 0.2)) &\n",
    "    (df_R3['struct_opt_dm'] <= np.quantile(df_R3['struct_opt_dm'], 0.8))\n",
    ")].mean()"
   ]
  },
  {
   "cell_type": "code",
   "execution_count": null,
   "metadata": {},
   "outputs": [],
   "source": [
    "np.median(df_R3['struct_opt_dm'])"
   ]
  },
  {
   "cell_type": "code",
   "execution_count": null,
   "metadata": {},
   "outputs": [],
   "source": [
    "detection_mjd"
   ]
  },
  {
   "cell_type": "code",
   "execution_count": null,
   "metadata": {},
   "outputs": [],
   "source": [
    "detection_mjd"
   ]
  },
  {
   "cell_type": "code",
   "execution_count": null,
   "metadata": {},
   "outputs": [],
   "source": []
  },
  {
   "cell_type": "code",
   "execution_count": 5,
   "metadata": {},
   "outputs": [
    {
     "data": {
      "text/plain": [
       "Index(['detection_folder', 'observation_datetime', 'detection_time',\n",
       "       'detection_mjd', 'detection_dm', 'detection_downsampling',\n",
       "       'detection_snr', 'filename', 'file_location', 'struct_opt_dm',\n",
       "       'struct_opt_dm_err', 'fluct_id_low', 'fluct_id_high', 'freq_id_low',\n",
       "       'freq_id_high', 't0', 't1', 'ds_freq', 'ds_time', 'delta_dm', 'smooth',\n",
       "       'paper_name', 'detection_phase'],\n",
       "      dtype='object')"
      ]
     },
     "execution_count": 5,
     "metadata": {},
     "output_type": "execute_result"
    }
   ],
   "source": [
    "df_R3.keys()"
   ]
  },
  {
   "cell_type": "code",
   "execution_count": null,
   "metadata": {},
   "outputs": [],
   "source": []
  }
 ],
 "metadata": {
  "kernelspec": {
   "display_name": "Python 3",
   "language": "python",
   "name": "python3"
  },
  "language_info": {
   "codemirror_mode": {
    "name": "ipython",
    "version": 3
   },
   "file_extension": ".py",
   "mimetype": "text/x-python",
   "name": "python",
   "nbconvert_exporter": "python",
   "pygments_lexer": "ipython3",
   "version": "3.8.5"
  }
 },
 "nbformat": 4,
 "nbformat_minor": 2
}
