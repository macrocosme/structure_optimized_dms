{
 "cells": [
  {
   "cell_type": "code",
   "execution_count": null,
   "metadata": {},
   "outputs": [],
   "source": [
    "%load_ext autoreload\n",
    "%autoreload 2\n",
    "%config InlineBackend.figure_format='retina'\n",
    "\n",
    "import os\n",
    "import sys\n",
    "import warnings\n",
    "warnings.simplefilter('ignore')\n",
    "\n",
    "from IPython.display import display\n",
    "\n",
    "# Add modules paths to system path\n",
    "module_paths = ['.']\n",
    "for module_path in module_paths:\n",
    "    if os.path.abspath(os.path.join(module_path)) not in sys.path:\n",
    "        sys.path.append(module_path)\n",
    "    \n",
    "import pickle\n",
    "import numpy as np\n",
    "import pandas as pd\n",
    "import builtins\n",
    "\n",
    "import matplotlib.pyplot as plt\n",
    "\n",
    "from ipywidgets import interact, fixed\n",
    "import ipywidgets as widgets\n",
    "\n",
    "from struct_opt_dms.utils import save, load\n",
    "from struct_opt_dms.dataset import load_dataframe\n",
    "from struct_opt_dms.interactive_analysis import initialize, prep_power, select_frequency_range\n",
    "\n",
    "current_input_id = -1\n",
    "# current_input_id = 29\n",
    "\n",
    "input_filterbanks_repository = '../data/filterbanks/R3/'\n",
    "state_variable_name = 'df_arts_R3'\n",
    "reload_state = True"
   ]
  },
  {
   "cell_type": "markdown",
   "metadata": {},
   "source": [
    "# Prepare bursts metadata\n",
    "(detection parameters, repository name, local and arts paths) "
   ]
  },
  {
   "cell_type": "code",
   "execution_count": null,
   "metadata": {
    "scrolled": false
   },
   "outputs": [],
   "source": [
    "df_R3 = load_dataframe(input_filterbanks_repository, state_variable_name, reload=reload_state)\n",
    "# df = df_R3[df_R3['struct_opt_dm'].isnull()]"
   ]
  },
  {
   "cell_type": "markdown",
   "metadata": {},
   "source": [
    "# Load input data"
   ]
  },
  {
   "cell_type": "code",
   "execution_count": null,
   "metadata": {
    "scrolled": false
   },
   "outputs": [],
   "source": [
    "# Main\n",
    "verbose = True\n",
    "\n",
    "# Go from one file to the other in the list in ascending (True) or decending (False) order\n",
    "# `None` will reload the same file.\n",
    "incr = True\n",
    "\n",
    "if incr:\n",
    "    current_input_id += 1\n",
    "elif incr is not None:\n",
    "    current_input_id -= 1\n",
    "\n",
    "print ('Current burst (index=%d):' % current_input_id)\n",
    "print (df_R3.iloc[current_input_id])\n",
    "print ()\n",
    "\n",
    "if df_R3.iloc[current_input_id]['file_location'] == '':\n",
    "    if incr:\n",
    "        current_input_id += 1\n",
    "    elif incr is not None:\n",
    "        current_input_id -= 1\n",
    "    \n",
    "# Global variables for interaction in next panel\n",
    "global struct_opt_dm, struct_opt_dm_err\n",
    "struct_opt_dm = 0\n",
    "struct_opt_dm_err = 0\n",
    "spectra, dm_trials, filename = initialize(df_R3.iloc[current_input_id]['file_location'], \n",
    "                                          df_R3.iloc[current_input_id]['detection_dm'],\n",
    "                                          df_R3.iloc[current_input_id]['detection_downsampling'],\n",
    "#                                           around_peak=False,\n",
    "                                          verbose=verbose)\n",
    "detection_mjd = df_R3.iloc[current_input_id]['detection_mjd']\n",
    "power_vs_dm, d_power_vs_dm = prep_power(spectra, dm_trials, verbose=verbose)\n"
   ]
  },
  {
   "cell_type": "markdown",
   "metadata": {},
   "source": [
    "# Interactive visualisation"
   ]
  },
  {
   "cell_type": "code",
   "execution_count": null,
   "metadata": {
    "scrolled": false
   },
   "outputs": [],
   "source": [
    "fig = plt.figure(constrained_layout=True, figsize=(10, 7))\n",
    "gs = fig.add_gridspec(15, 6)\n",
    "\n",
    "interact(\n",
    "    select_frequency_range, \n",
    "    spectra = fixed(spectra), \n",
    "    dm_trials = fixed(dm_trials),\n",
    "    power_vs_dm = fixed(power_vs_dm),\n",
    "    d_power_vs_dm  = fixed(d_power_vs_dm),\n",
    "    fig=fixed(fig),\n",
    "    gs=fixed(gs),\n",
    "    fluct_id_low = widgets.IntSlider(min = 0, \n",
    "                                     max = power_vs_dm.shape[0], \n",
    "                                     step = 1, \n",
    "                                     value = 0, \n",
    "                                     continuous_update=False), \n",
    "    fluct_id_high = widgets.IntSlider(min = 0, \n",
    "                                      max = power_vs_dm.shape[0], \n",
    "                                      step = 1, \n",
    "                                      value = power_vs_dm.shape[0], \n",
    "                                      continuous_update=False), \n",
    "    freq_id_low = widgets.IntSlider(min = 0, \n",
    "                                    max = spectra.data.shape[0], \n",
    "                                    step = 1, \n",
    "                                    value = 0, \n",
    "                                    continuous_update=False),\n",
    "    freq_id_high = widgets.IntSlider(min = 1, \n",
    "                                     max = spectra.data.shape[0], \n",
    "                                     step = 1, \n",
    "                                     value = spectra.data.shape[0], \n",
    "                                     continuous_update=False),\n",
    "    t0 = widgets.IntSlider(min = 0, \n",
    "                           max = spectra.data.shape[1], \n",
    "                           step = 1, \n",
    "                           value = 0, \n",
    "                           continuous_update=False), \n",
    "    t1 = widgets.IntSlider(min = 1, \n",
    "                           max = spectra.data.shape[1], \n",
    "                           step = 1, \n",
    "                           value = spectra.data.shape[1], \n",
    "                           continuous_update=False),\n",
    "    ds_freq = widgets.IntSlider(min=1, \n",
    "                                max=32, \n",
    "                                step=1, \n",
    "                                value=1, \n",
    "                                continuous_update=False),\n",
    "    ds_time = widgets.IntSlider(min=1, \n",
    "                                max=32, \n",
    "                                step=1, \n",
    "                                value=1, \n",
    "                                continuous_update=False),\n",
    "    delta_dm = widgets.FloatSlider(min = -10, \n",
    "                                   max = 10, \n",
    "                                   step = 0.01, \n",
    "                                   value = 0, \n",
    "                                   continuous_update=False),\n",
    "    smooth = widgets.IntSlider(min=0, \n",
    "                               max=4, \n",
    "                               step=1, \n",
    "                               value=0, \n",
    "                               continuous_update=False),\n",
    "    \n",
    ")\n",
    "\n",
    "# Save button\n",
    "button = widgets.Button(description=\"Save figure\")\n",
    "display(button)\n",
    "\n",
    "button_raw = widgets.Button(description=\"Save raw figure\")\n",
    "display(button_raw)\n",
    "\n",
    "def save_to_df():\n",
    "    df_R3.loc[df_R3['detection_mjd'] == detection_mjd, 'struct_opt_dm'] = builtins.struct_opt_dm \n",
    "    df_R3.loc[df_R3['detection_mjd'] == detection_mjd, 'struct_opt_dm_err'] = builtins.struct_opt_dm_err\n",
    "    \n",
    "    # Widgets values\n",
    "    df_R3.loc[df_R3['detection_mjd'] == detection_mjd, 'fluct_id_low'] = builtins.fluct_id_low\n",
    "    df_R3.loc[df_R3['detection_mjd'] == detection_mjd, 'fluct_id_high'] = builtins.fluct_id_high\n",
    "    df_R3.loc[df_R3['detection_mjd'] == detection_mjd, 'freq_id_low'] = builtins.freq_id_low\n",
    "    df_R3.loc[df_R3['detection_mjd'] == detection_mjd, 'freq_id_high'] = builtins.freq_id_high\n",
    "    df_R3.loc[df_R3['detection_mjd'] == detection_mjd, 't0'] = builtins.t0\n",
    "    df_R3.loc[df_R3['detection_mjd'] == detection_mjd, 't1'] = builtins.t1\n",
    "    df_R3.loc[df_R3['detection_mjd'] == detection_mjd, 'ds_freq'] = builtins.ds_freq\n",
    "    df_R3.loc[df_R3['detection_mjd'] == detection_mjd, 'ds_time'] = builtins.ds_time\n",
    "    df_R3.loc[df_R3['detection_mjd'] == detection_mjd, 'delta_dm'] = builtins.delta_dm\n",
    "    df_R3.loc[df_R3['detection_mjd'] == detection_mjd, 'smooth'] = builtins.smooth\n",
    "    \n",
    "    save(state_variable_name, df_R3)\n",
    "    df_R3.to_csv('arts_r3.csv', index=False)\n",
    "\n",
    "def check_dir(folder):\n",
    "    if not os.path.exists(folder):\n",
    "        os.makedirs(folder)\n",
    "    \n",
    "def save_figure(b):\n",
    "    check_dir('images/manual_opt')\n",
    "    check_dir('images/manual_opt/data')\n",
    "    \n",
    "    print (\"saved to images/manual_opt/%s.png\" % (filename.split('/')[-1].split('.fil')[0]))\n",
    "    fig.savefig(\"images/manual_opt/%s.png\" % (filename.split('/')[-1].split('.fil')[0]), dpi=300)\n",
    "\n",
    "    with open(\"images/manual_opt/data/%s_waterfall.npy\" % (filename.split('/')[-1].split('.fil')[0]), 'wb') as f:\n",
    "        np.savetxt(f, builtins.sub_waterfall)\n",
    "    with open(\"images/manual_opt/data/%s_fluctuation.npy\" % (filename.split('/')[-1].split('.fil')[0]), 'wb') as f:\n",
    "        np.savetxt(f, builtins.power_vs_dm)\n",
    "        \n",
    "    save_to_df()\n",
    "        \n",
    "def save_figure_raw(b):\n",
    "    check_dir('images/manual_opt/raw')\n",
    "    check_dir('images/manual_opt/raw/data')\n",
    "    \n",
    "    print (\"saved to images/manual_opt/raw/%s.png\" % (filename.split('/')[-1].split('.fil')[0]))\n",
    "    fig.savefig(\"images/manual_opt/raw/%s.png\" % (filename.split('/')[-1].split('.fil')[0]), dpi=300)\n",
    "\n",
    "    with open(\"images/manual_opt/raw/data/%s_waterfall.npy\" % (filename.split('/')[-1].split('.fil')[0]), 'wb') as f:\n",
    "        np.savetxt(f, builtins.sub_waterfall)\n",
    "    with open(\"images/manual_opt/raw/data/%s_fluctuation.npy\" % (filename.split('/')[-1].split('.fil')[0]), 'wb') as f:\n",
    "        np.savetxt(f, builtins.power_vs_dm)\n",
    "        \n",
    "    save_to_df()\n",
    "\n",
    "button.on_click(save_figure)\n",
    "button_raw.on_click(save_figure_raw)\n"
   ]
  },
  {
   "cell_type": "markdown",
   "metadata": {},
   "source": [
    "# Plot DM vs Phase / time"
   ]
  },
  {
   "cell_type": "code",
   "execution_count": null,
   "metadata": {
    "scrolled": true
   },
   "outputs": [],
   "source": [
    "if 'detection_phase' not in df_R3.keys():\n",
    "    phase0 = 58369.30\n",
    "    t0 = Time(phase0, format='mjd')\n",
    "    period = 16.28\n",
    "    df_R3['detection_phase'] = df_R3['detection_mjd'].apply(lambda x: ((x - t0.mjd) % period) / period)\n",
    "    \n",
    "\n",
    "# df = df_R3.loc[(df_R3['detection_mjd'] > 58960) & (df_R3['detection_mjd'] < 58985)]\n",
    "df = df_R3\n",
    "\n",
    "plt.scatter(df['detection_phase'], df['struct_opt_dm'])\n",
    "plt.errorbar(df['detection_phase'], df['struct_opt_dm'], yerr=df['struct_opt_dm_err'], ls='none')\n",
    "plt.hlines(np.nanmedian(df['struct_opt_dm']), \n",
    "           np.min(df['detection_phase']), \n",
    "           np.max(df['detection_phase']), \n",
    "           linestyle='dashed', \n",
    "           colors='black', \n",
    "           alpha = 0.5)\n",
    "plt.annotate(r'$\\~{\\tt{DM}}$ = %.2f pc/cc' % (np.nanmedian(df['struct_opt_dm'])), \n",
    "            xy=(0, 0.5),\n",
    "            xycoords='axes fraction',\n",
    "            xytext=(0.05, 0.85),)\n",
    "plt.xlabel('Phase')\n",
    "plt.ylabel('DM (pc/cc)')\n",
    "\n",
    "plt.tight_layout()\n",
    "plt.savefig('images/DM_v_Time_R3.png', dpi=300)\n",
    "\n",
    "df_R3[['detection_isot', \n",
    "       'detection_mjd', \n",
    "       'detection_phase', \n",
    "       'struct_opt_dm', \n",
    "       'struct_opt_dm_err']].to_csv('R3_arts.csv', index=False)"
   ]
  },
  {
   "cell_type": "markdown",
   "metadata": {},
   "source": [
    "# Dev Zone"
   ]
  },
  {
   "cell_type": "code",
   "execution_count": null,
   "metadata": {},
   "outputs": [],
   "source": [
    "df_R3.iloc[1]"
   ]
  },
  {
   "cell_type": "code",
   "execution_count": null,
   "metadata": {},
   "outputs": [],
   "source": [
    "current_input_id"
   ]
  },
  {
   "cell_type": "code",
   "execution_count": null,
   "metadata": {},
   "outputs": [],
   "source": [
    "df_R3[['detection_mjd', 'struct_opt_dm']].to_csv(\"filename.csv\", )"
   ]
  },
  {
   "cell_type": "code",
   "execution_count": null,
   "metadata": {},
   "outputs": [],
   "source": []
  }
 ],
 "metadata": {
  "kernelspec": {
   "display_name": "Python 3",
   "language": "python",
   "name": "python3"
  },
  "language_info": {
   "codemirror_mode": {
    "name": "ipython",
    "version": 3
   },
   "file_extension": ".py",
   "mimetype": "text/x-python",
   "name": "python",
   "nbconvert_exporter": "python",
   "pygments_lexer": "ipython3",
   "version": "3.8.5"
  }
 },
 "nbformat": 4,
 "nbformat_minor": 2
}
